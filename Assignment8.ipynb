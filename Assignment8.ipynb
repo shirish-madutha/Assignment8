{
 "cells": [
  {
   "cell_type": "code",
   "execution_count": 3,
   "id": "f4167fa5-dfcd-4461-af76-435a8f171258",
   "metadata": {},
   "outputs": [
    {
     "name": "stdin",
     "output_type": "stream",
     "text": [
      "Enter your password :  $hIRy@123!\n"
     ]
    },
    {
     "data": {
      "text/plain": [
       "'Valid Password'"
      ]
     },
     "execution_count": 3,
     "metadata": {},
     "output_type": "execute_result"
    }
   ],
   "source": [
    "\"\"\" Q1. You are writing code for a company. The requirement of the company is that you create a python\n",
    "function that will check whether the password entered by the user is correct or not. The function should\n",
    "take the password as input and return the string “Valid Password” if the entered password follows the\n",
    "below-given password guidelines else it should return “Invalid Password”.\n",
    "Note: 1. The Password should contain at least two uppercase letters and at least two lowercase letters.\n",
    "2. The Password should contain at least a number and three special characters.\n",
    "3. The length of the password should be 10 characters long. \"\"\"\n",
    "\n",
    "user=input(\"Enter your password : \")\n",
    "def fun(n):\n",
    "    special_char=\"!@#$%&\"\n",
    "    a,b,c,d,e=0,0,0,0,0\n",
    "    if len(n)==10:\n",
    "        for i in n:\n",
    "            if i.islower():\n",
    "                a+=1\n",
    "            elif i.isupper():\n",
    "                b+=1\n",
    "            elif i.isnumeric():\n",
    "                c+=1\n",
    "            elif i in special_char:\n",
    "                d+=1\n",
    "            else:\n",
    "                e+=1\n",
    "                \n",
    "    if a>=2 and b>=2 and c>=1 and d>=3 and e==0:\n",
    "        return \"Valid Password\"\n",
    "    else:\n",
    "        return \"Invalid Password\"\n",
    "fun(user)"
   ]
  },
  {
   "cell_type": "code",
   "execution_count": 17,
   "id": "6a201a9b-709e-499d-a77e-b2a2e785798b",
   "metadata": {},
   "outputs": [
    {
     "data": {
      "text/plain": [
       "True"
      ]
     },
     "execution_count": 17,
     "metadata": {},
     "output_type": "execute_result"
    }
   ],
   "source": [
    "\"\"\" Q2. Solve the below-given questions using at least one of the following: \"\"\"\n",
    "\n",
    "# Check if the string starts with a particular letter\n",
    "\n",
    "string=\"shiry234\"\n",
    "f=lambda n:True if n[0].isalpha() else False\n",
    "f(string)"
   ]
  },
  {
   "cell_type": "code",
   "execution_count": 18,
   "id": "fd041a27-006f-416c-bb7d-46de22777c1e",
   "metadata": {},
   "outputs": [
    {
     "data": {
      "text/plain": [
       "True"
      ]
     },
     "execution_count": 18,
     "metadata": {},
     "output_type": "execute_result"
    }
   ],
   "source": [
    "# Check if the string is numeric\n",
    "\n",
    "string=\"456123\"\n",
    "f=lambda n:True if n.isnumeric() else False\n",
    "f(string)"
   ]
  },
  {
   "cell_type": "code",
   "execution_count": 7,
   "id": "85ef5f54-f4d3-4bf3-8d36-f48257f14568",
   "metadata": {},
   "outputs": [
    {
     "name": "stdout",
     "output_type": "stream",
     "text": [
      "[('orange', 80), ('mango', 99), ('grapes', 1000)]\n"
     ]
    }
   ],
   "source": [
    "# Sort a list of tuples having fruit names and their quantity.\n",
    "\n",
    "fruits = [(\"mango\", 99), (\"orange\", 80), (\"grapes\", 1000)]\n",
    "sorted_fruits = sorted(fruits, key=lambda x: x[1])\n",
    "print(sorted_fruits)"
   ]
  },
  {
   "cell_type": "code",
   "execution_count": 9,
   "id": "cb2531f9-8ce6-4431-8303-f59210035e62",
   "metadata": {},
   "outputs": [
    {
     "data": {
      "text/plain": [
       "[1, 4, 9, 16, 25, 36, 49, 64, 81, 100]"
      ]
     },
     "execution_count": 9,
     "metadata": {},
     "output_type": "execute_result"
    }
   ],
   "source": [
    "# Find the squares of numbers from 1 to 10\n",
    "\n",
    "n=list(range(1,11))\n",
    "list(map(lambda x:x**2,n))"
   ]
  },
  {
   "cell_type": "code",
   "execution_count": 10,
   "id": "d40b5e9a-a937-4909-81e5-ae1e97dfb89b",
   "metadata": {},
   "outputs": [
    {
     "data": {
      "text/plain": [
       "[1, 8, 27, 64, 125, 216, 343, 512, 729, 1000]"
      ]
     },
     "execution_count": 10,
     "metadata": {},
     "output_type": "execute_result"
    }
   ],
   "source": [
    "# Find the cube root of numbers from 1 to 10\n",
    "\n",
    "n=list(range(1,11))\n",
    "list(map(lambda x: x**3,n))"
   ]
  },
  {
   "cell_type": "code",
   "execution_count": 20,
   "id": "1d89cabb-b931-44ae-aec7-0c3936d990f9",
   "metadata": {},
   "outputs": [
    {
     "name": "stdin",
     "output_type": "stream",
     "text": [
      "Enter any number :  20\n"
     ]
    },
    {
     "data": {
      "text/plain": [
       "True"
      ]
     },
     "execution_count": 20,
     "metadata": {},
     "output_type": "execute_result"
    }
   ],
   "source": [
    "# Check if a given number is even\n",
    "\n",
    "user=int(input(\"Enter any number : \"))\n",
    "f=lambda x:True if x%2==0 else False\n",
    "f(user)"
   ]
  },
  {
   "cell_type": "code",
   "execution_count": 1,
   "id": "c66e6215-31d5-400a-a3ca-bb483ab48b9f",
   "metadata": {},
   "outputs": [
    {
     "data": {
      "text/plain": [
       "[1, 3, 5, 7, 9]"
      ]
     },
     "execution_count": 1,
     "metadata": {},
     "output_type": "execute_result"
    }
   ],
   "source": [
    "# Filter odd numbers from the given list.\n",
    "\n",
    "l=[1,2,3,4,5,6,7,8,9,10]\n",
    "list(filter(lambda x: x%2!=0, l))"
   ]
  },
  {
   "cell_type": "code",
   "execution_count": 4,
   "id": "6cb23812-cbf4-4366-a5be-2ec0b8299872",
   "metadata": {},
   "outputs": [
    {
     "name": "stdout",
     "output_type": "stream",
     "text": [
      "[-1, -2, -3, -4, -5]\n",
      "[1, 2, 3, 4, 5, 6]\n"
     ]
    }
   ],
   "source": [
    "# Sort a list of integers into positive and negative integers lists.\n",
    "\n",
    "l=[1,2,3,4,5,6,-1,-2,-3,-4,-5,0]\n",
    "negative_list=list(filter(lambda x: x<0,l))\n",
    "positive_list=list(filter(lambda x: x>0,l))\n",
    "print(negative_list)\n",
    "print(positive_list)"
   ]
  }
 ],
 "metadata": {
  "kernelspec": {
   "display_name": "Python 3 (ipykernel)",
   "language": "python",
   "name": "python3"
  },
  "language_info": {
   "codemirror_mode": {
    "name": "ipython",
    "version": 3
   },
   "file_extension": ".py",
   "mimetype": "text/x-python",
   "name": "python",
   "nbconvert_exporter": "python",
   "pygments_lexer": "ipython3",
   "version": "3.10.8"
  }
 },
 "nbformat": 4,
 "nbformat_minor": 5
}
